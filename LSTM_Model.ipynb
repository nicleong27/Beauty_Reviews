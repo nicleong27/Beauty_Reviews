{
 "cells": [
  {
   "cell_type": "code",
   "execution_count": 55,
   "metadata": {},
   "outputs": [],
   "source": [
    "import tensorflow as tf\n",
    "keras = tf.keras\n",
    "from tensorflow.keras.preprocessing.text import Tokenizer\n",
    "from tensorflow.keras.preprocessing.sequence import pad_sequences\n",
    "from tensorflow.keras.models import Sequential\n",
    "from tensorflow.keras.layers import Dense, Embedding, LSTM, SpatialDropout1D, Dropout\n",
    "# from tensorflow.keras.embeddings import Embedding\n",
    "# from tensorflow.keras.utils.np_utils import to_categorical\n",
    "from tensorflow.keras.callbacks import EarlyStopping\n",
    "from tensorflow.keras.models import load_model\n",
    "\n",
    "from scipy import stats\n",
    "import numpy as np\n",
    "import matplotlib.pyplot as plt\n",
    "# %matplotlib inline\n",
    "from sklearn.model_selection import train_test_split\n",
    "from sklearn.utils import resample\n",
    "from sklearn.metrics import confusion_matrix\n",
    "from imblearn.over_sampling import SMOTE\n",
    "from imblearn.under_sampling import NearMiss, RandomUnderSampler\n",
    "from imblearn.pipeline import make_pipeline as make_pipeline_imb\n",
    "import pandas as pd\n",
    "import seaborn as sns\n",
    "\n",
    "# from src.LSTM_cleaning import *\n",
    "from src.EDA import *\n",
    "from src.Preprocessing import *\n",
    "\n",
    "import nltk\n",
    "from nltk.corpus import stopwords\n",
    "# nltk.download('stopwords')"
   ]
  },
  {
   "cell_type": "code",
   "execution_count": 2,
   "metadata": {},
   "outputs": [],
   "source": [
    "# autoreload python file to take in changes from outside notebook\n",
    "%load_ext autoreload\n",
    "%autoreload 2"
   ]
  },
  {
   "cell_type": "code",
   "execution_count": 57,
   "metadata": {},
   "outputs": [],
   "source": [
    "eda = EDA()\n",
    "pre_process = Prepocessing()"
   ]
  },
  {
   "cell_type": "code",
   "execution_count": 53,
   "metadata": {},
   "outputs": [],
   "source": [
    "df = pd.read_csv('sephora_review_db.csv.zip')"
   ]
  },
  {
   "cell_type": "code",
   "execution_count": 54,
   "metadata": {},
   "outputs": [
    {
     "data": {
      "text/html": [
       "<div>\n",
       "<style scoped>\n",
       "    .dataframe tbody tr th:only-of-type {\n",
       "        vertical-align: middle;\n",
       "    }\n",
       "\n",
       "    .dataframe tbody tr th {\n",
       "        vertical-align: top;\n",
       "    }\n",
       "\n",
       "    .dataframe thead th {\n",
       "        text-align: right;\n",
       "    }\n",
       "</style>\n",
       "<table border=\"1\" class=\"dataframe\">\n",
       "  <thead>\n",
       "    <tr style=\"text-align: right;\">\n",
       "      <th></th>\n",
       "      <th>review_text</th>\n",
       "      <th>skin_type</th>\n",
       "    </tr>\n",
       "  </thead>\n",
       "  <tbody>\n",
       "    <tr>\n",
       "      <th>0</th>\n",
       "      <td>Really good foundation I like it a lot but som...</td>\n",
       "      <td>oily</td>\n",
       "    </tr>\n",
       "    <tr>\n",
       "      <th>1</th>\n",
       "      <td>As someone who is very VERY fair, I have alway...</td>\n",
       "      <td>combination</td>\n",
       "    </tr>\n",
       "    <tr>\n",
       "      <th>2</th>\n",
       "      <td>First purchase of a foundation of any kind. Wa...</td>\n",
       "      <td>combination</td>\n",
       "    </tr>\n",
       "    <tr>\n",
       "      <th>3</th>\n",
       "      <td>I absolutely love this foundation! I get compl...</td>\n",
       "      <td>combination</td>\n",
       "    </tr>\n",
       "    <tr>\n",
       "      <th>4</th>\n",
       "      <td>Love this foundation! I was using Too Faced Bo...</td>\n",
       "      <td>combination</td>\n",
       "    </tr>\n",
       "  </tbody>\n",
       "</table>\n",
       "</div>"
      ],
      "text/plain": [
       "                                         review_text    skin_type\n",
       "0  Really good foundation I like it a lot but som...         oily\n",
       "1  As someone who is very VERY fair, I have alway...  combination\n",
       "2  First purchase of a foundation of any kind. Wa...  combination\n",
       "3  I absolutely love this foundation! I get compl...  combination\n",
       "4  Love this foundation! I was using Too Faced Bo...  combination"
      ]
     },
     "execution_count": 54,
     "metadata": {},
     "output_type": "execute_result"
    }
   ],
   "source": [
    "model_df = df[['review_text', 'skin_type']].copy()\n",
    "model_df.head()"
   ]
  },
  {
   "cell_type": "code",
   "execution_count": 59,
   "metadata": {},
   "outputs": [
    {
     "data": {
      "text/html": [
       "<div>\n",
       "<style scoped>\n",
       "    .dataframe tbody tr th:only-of-type {\n",
       "        vertical-align: middle;\n",
       "    }\n",
       "\n",
       "    .dataframe tbody tr th {\n",
       "        vertical-align: top;\n",
       "    }\n",
       "\n",
       "    .dataframe thead th {\n",
       "        text-align: right;\n",
       "    }\n",
       "</style>\n",
       "<table border=\"1\" class=\"dataframe\">\n",
       "  <thead>\n",
       "    <tr style=\"text-align: right;\">\n",
       "      <th></th>\n",
       "      <th>review_text</th>\n",
       "      <th>skin_type</th>\n",
       "    </tr>\n",
       "  </thead>\n",
       "  <tbody>\n",
       "    <tr>\n",
       "      <th>0</th>\n",
       "      <td>really good foundation like lot sometimes grab...</td>\n",
       "      <td>oily</td>\n",
       "    </tr>\n",
       "    <tr>\n",
       "      <th>1</th>\n",
       "      <td>someone fair, always hard time finding foundat...</td>\n",
       "      <td>combination</td>\n",
       "    </tr>\n",
       "    <tr>\n",
       "      <th>2</th>\n",
       "      <td>first purchase foundation kind. willing give t...</td>\n",
       "      <td>combination</td>\n",
       "    </tr>\n",
       "    <tr>\n",
       "      <th>3</th>\n",
       "      <td>absolutely love foundation! get compliments da...</td>\n",
       "      <td>combination</td>\n",
       "    </tr>\n",
       "    <tr>\n",
       "      <th>4</th>\n",
       "      <td>love foundation! using faced born way bought b...</td>\n",
       "      <td>combination</td>\n",
       "    </tr>\n",
       "  </tbody>\n",
       "</table>\n",
       "</div>"
      ],
      "text/plain": [
       "                                         review_text    skin_type\n",
       "0  really good foundation like lot sometimes grab...         oily\n",
       "1  someone fair, always hard time finding foundat...  combination\n",
       "2  first purchase foundation kind. willing give t...  combination\n",
       "3  absolutely love foundation! get compliments da...  combination\n",
       "4  love foundation! using faced born way bought b...  combination"
      ]
     },
     "execution_count": 59,
     "metadata": {},
     "output_type": "execute_result"
    }
   ],
   "source": [
    "model_df['review_text'] = model_df['review_text'].apply(format_strings)\n",
    "model_df.head()"
   ]
  },
  {
   "cell_type": "code",
   "execution_count": 60,
   "metadata": {},
   "outputs": [
    {
     "name": "stdout",
     "output_type": "stream",
     "text": [
      "Your selected dataframe has 2 columns and 276072 Rows.\n",
      "There are 1 columns that have missing values.\n"
     ]
    },
    {
     "data": {
      "text/html": [
       "<div>\n",
       "<style scoped>\n",
       "    .dataframe tbody tr th:only-of-type {\n",
       "        vertical-align: middle;\n",
       "    }\n",
       "\n",
       "    .dataframe tbody tr th {\n",
       "        vertical-align: top;\n",
       "    }\n",
       "\n",
       "    .dataframe thead th {\n",
       "        text-align: right;\n",
       "    }\n",
       "</style>\n",
       "<table border=\"1\" class=\"dataframe\">\n",
       "  <thead>\n",
       "    <tr style=\"text-align: right;\">\n",
       "      <th></th>\n",
       "      <th>Zero Values</th>\n",
       "      <th>Missing Values</th>\n",
       "      <th>% of Total Values</th>\n",
       "      <th>Total Zero Missing Values</th>\n",
       "      <th>% Total Zero Missing Values</th>\n",
       "      <th>Data Type</th>\n",
       "    </tr>\n",
       "  </thead>\n",
       "  <tbody>\n",
       "    <tr>\n",
       "      <th>skin_type</th>\n",
       "      <td>0</td>\n",
       "      <td>141630</td>\n",
       "      <td>51.3</td>\n",
       "      <td>141630</td>\n",
       "      <td>51.3</td>\n",
       "      <td>object</td>\n",
       "    </tr>\n",
       "  </tbody>\n",
       "</table>\n",
       "</div>"
      ],
      "text/plain": [
       "           Zero Values  Missing Values  % of Total Values  \\\n",
       "skin_type            0          141630               51.3   \n",
       "\n",
       "           Total Zero Missing Values  % Total Zero Missing Values Data Type  \n",
       "skin_type                     141630                         51.3    object  "
      ]
     },
     "execution_count": 60,
     "metadata": {},
     "output_type": "execute_result"
    }
   ],
   "source": [
    "eda.missing_zero_values_table(model_df)"
   ]
  },
  {
   "cell_type": "markdown",
   "metadata": {},
   "source": [
    "It looks like half of the skin types are missing, these rows will be dropped as an NaN skin type does not have much meaning in this context."
   ]
  },
  {
   "cell_type": "code",
   "execution_count": 8,
   "metadata": {},
   "outputs": [],
   "source": [
    "model_df.dropna(inplace=True, axis=0)"
   ]
  },
  {
   "cell_type": "code",
   "execution_count": 9,
   "metadata": {},
   "outputs": [
    {
     "name": "stdout",
     "output_type": "stream",
     "text": [
      "Your selected dataframe has 2 columns and 134442 Rows.\n",
      "There are 0 columns that have missing values.\n"
     ]
    },
    {
     "data": {
      "text/html": [
       "<div>\n",
       "<style scoped>\n",
       "    .dataframe tbody tr th:only-of-type {\n",
       "        vertical-align: middle;\n",
       "    }\n",
       "\n",
       "    .dataframe tbody tr th {\n",
       "        vertical-align: top;\n",
       "    }\n",
       "\n",
       "    .dataframe thead th {\n",
       "        text-align: right;\n",
       "    }\n",
       "</style>\n",
       "<table border=\"1\" class=\"dataframe\">\n",
       "  <thead>\n",
       "    <tr style=\"text-align: right;\">\n",
       "      <th></th>\n",
       "      <th>Zero Values</th>\n",
       "      <th>Missing Values</th>\n",
       "      <th>% of Total Values</th>\n",
       "      <th>Total Zero Missing Values</th>\n",
       "      <th>% Total Zero Missing Values</th>\n",
       "      <th>Data Type</th>\n",
       "    </tr>\n",
       "  </thead>\n",
       "  <tbody>\n",
       "  </tbody>\n",
       "</table>\n",
       "</div>"
      ],
      "text/plain": [
       "Empty DataFrame\n",
       "Columns: [Zero Values, Missing Values, % of Total Values, Total Zero Missing Values, % Total Zero Missing Values, Data Type]\n",
       "Index: []"
      ]
     },
     "execution_count": 9,
     "metadata": {},
     "output_type": "execute_result"
    }
   ],
   "source": [
    "eda.missing_zero_values_table(model_df)"
   ]
  },
  {
   "cell_type": "code",
   "execution_count": 10,
   "metadata": {},
   "outputs": [
    {
     "name": "stdout",
     "output_type": "stream",
     "text": [
      "Avg review length:  36\n",
      "Max review length:  481\n"
     ]
    }
   ],
   "source": [
    "num_tokens = [len(review.split()) for review in model_df['review_text']]\n",
    "num_tokens = np.array(num_tokens)\n",
    "# find average length of review\n",
    "avg_review_length = np.mean(num_tokens)\n",
    "print('Avg review length: ', int(avg_review_length))\n",
    "# find max length of review\n",
    "max_review_length = np.max(num_tokens)\n",
    "print('Max review length: ', max_review_length)\n",
    "# len(model_df['review_text'][0].split())"
   ]
  },
  {
   "cell_type": "markdown",
   "metadata": {},
   "source": [
    "Calculate the max the number of tokens to put into the model"
   ]
  },
  {
   "cell_type": "code",
   "execution_count": 11,
   "metadata": {},
   "outputs": [
    {
     "data": {
      "text/plain": [
       "93"
      ]
     },
     "execution_count": 11,
     "metadata": {},
     "output_type": "execute_result"
    }
   ],
   "source": [
    "max_tokens = int(avg_review_length + (2 * np.std(num_tokens)))\n",
    "max_tokens"
   ]
  },
  {
   "cell_type": "markdown",
   "metadata": {},
   "source": [
    "This max token length covers around 95% of the dataset."
   ]
  },
  {
   "cell_type": "code",
   "execution_count": 12,
   "metadata": {},
   "outputs": [
    {
     "data": {
      "text/plain": [
       "0.9545528926972225"
      ]
     },
     "execution_count": 12,
     "metadata": {},
     "output_type": "execute_result"
    }
   ],
   "source": [
    "np.sum(num_tokens < max_tokens) / len(num_tokens)"
   ]
  },
  {
   "cell_type": "code",
   "execution_count": 13,
   "metadata": {},
   "outputs": [],
   "source": [
    "# model_df['skin_type'].value_counts()"
   ]
  },
  {
   "cell_type": "code",
   "execution_count": 14,
   "metadata": {},
   "outputs": [],
   "source": [
    "# 70782+25003+21082+17575"
   ]
  },
  {
   "cell_type": "markdown",
   "metadata": {},
   "source": [
    "## LSTM Model with for Dry & Oily Skin"
   ]
  },
  {
   "cell_type": "code",
   "execution_count": 15,
   "metadata": {},
   "outputs": [
    {
     "data": {
      "text/html": [
       "<div>\n",
       "<style scoped>\n",
       "    .dataframe tbody tr th:only-of-type {\n",
       "        vertical-align: middle;\n",
       "    }\n",
       "\n",
       "    .dataframe tbody tr th {\n",
       "        vertical-align: top;\n",
       "    }\n",
       "\n",
       "    .dataframe thead th {\n",
       "        text-align: right;\n",
       "    }\n",
       "</style>\n",
       "<table border=\"1\" class=\"dataframe\">\n",
       "  <thead>\n",
       "    <tr style=\"text-align: right;\">\n",
       "      <th></th>\n",
       "      <th>review_text</th>\n",
       "      <th>skin_type</th>\n",
       "    </tr>\n",
       "  </thead>\n",
       "  <tbody>\n",
       "    <tr>\n",
       "      <th>0</th>\n",
       "      <td>really good foundation like lot sometimes grab...</td>\n",
       "      <td>1</td>\n",
       "    </tr>\n",
       "    <tr>\n",
       "      <th>6</th>\n",
       "      <td>let say first need time apply foundation pract...</td>\n",
       "      <td>1</td>\n",
       "    </tr>\n",
       "    <tr>\n",
       "      <th>12</th>\n",
       "      <td>best foundation ever used! blotted mid day rem...</td>\n",
       "      <td>1</td>\n",
       "    </tr>\n",
       "    <tr>\n",
       "      <th>13</th>\n",
       "      <td>aren’t many mainstream brands cater skin tone....</td>\n",
       "      <td>1</td>\n",
       "    </tr>\n",
       "    <tr>\n",
       "      <th>17</th>\n",
       "      <td>best foundation ever used get many compliments...</td>\n",
       "      <td>1</td>\n",
       "    </tr>\n",
       "  </tbody>\n",
       "</table>\n",
       "</div>"
      ],
      "text/plain": [
       "                                          review_text  skin_type\n",
       "0   really good foundation like lot sometimes grab...          1\n",
       "6   let say first need time apply foundation pract...          1\n",
       "12  best foundation ever used! blotted mid day rem...          1\n",
       "13  aren’t many mainstream brands cater skin tone....          1\n",
       "17  best foundation ever used get many compliments...          1"
      ]
     },
     "execution_count": 15,
     "metadata": {},
     "output_type": "execute_result"
    }
   ],
   "source": [
    "model_df2 = model_df[(model_df['skin_type'] == 'oily') | (model_df['skin_type'] == 'dry')].copy()\n",
    "model_df2['skin_type'] = np.where((model_df2['skin_type'] == 'oily'), 1, 0)\n",
    "model_df2.head()"
   ]
  },
  {
   "cell_type": "code",
   "execution_count": 62,
   "metadata": {},
   "outputs": [
    {
     "data": {
      "text/plain": [
       "1    25003\n",
       "0    21082\n",
       "Name: skin_type, dtype: int64"
      ]
     },
     "execution_count": 62,
     "metadata": {},
     "output_type": "execute_result"
    }
   ],
   "source": [
    "# model_df2['skin_type'].value_counts()"
   ]
  },
  {
   "cell_type": "code",
   "execution_count": 37,
   "metadata": {},
   "outputs": [
    {
     "name": "stdout",
     "output_type": "stream",
     "text": [
      "Found 20167 unique tokens\n"
     ]
    }
   ],
   "source": [
    "# max number of most frequent words\n",
    "max_nb_words = 5000\n",
    "# max_nb_words = 5000\n",
    "\n",
    "# max number of tokens\n",
    "max_seq_length = max_tokens\n",
    "embedding_dim = 8\n",
    "\n",
    "tokenizer = Tokenizer(num_words=max_nb_words, filters='!\"#$%&()*+,-./:;<=>?@[\\]^_`{|}~', lower=True)\n",
    "tokenizer.fit_on_texts(model_df2['review_text'].values)\n",
    "word_index = tokenizer.word_index\n",
    "print('Found {} unique tokens'.format(len(word_index)))"
   ]
  },
  {
   "cell_type": "code",
   "execution_count": 38,
   "metadata": {},
   "outputs": [
    {
     "name": "stdout",
     "output_type": "stream",
     "text": [
      "Shape of data tensor:  (46085, 93)\n"
     ]
    }
   ],
   "source": [
    "X = tokenizer.texts_to_sequences(model_df2['review_text'].values)\n",
    "# pad sequences vectorizes and creates a uniform length of sentences\n",
    "X = pad_sequences(X, maxlen=max_seq_length)\n",
    "print('Shape of data tensor: ', X.shape)"
   ]
  },
  {
   "cell_type": "code",
   "execution_count": 39,
   "metadata": {},
   "outputs": [
    {
     "name": "stdout",
     "output_type": "stream",
     "text": [
      "Shape of label tensor:  (46085,)\n"
     ]
    }
   ],
   "source": [
    "y = model_df2['skin_type'].values\n",
    "print('Shape of label tensor: ', y.shape)"
   ]
  },
  {
   "cell_type": "code",
   "execution_count": 40,
   "metadata": {},
   "outputs": [],
   "source": [
    "# split data into training and testing set to create holdout test set and balanced training data\n",
    "X_train, X_test, y_train, y_test = train_test_split(X, y, test_size=0.10, random_state=42)"
   ]
  },
  {
   "cell_type": "markdown",
   "metadata": {},
   "source": [
    "### LSTM Model2"
   ]
  },
  {
   "cell_type": "code",
   "execution_count": 41,
   "metadata": {},
   "outputs": [
    {
     "name": "stdout",
     "output_type": "stream",
     "text": [
      "Model: \"sequential_2\"\n",
      "_________________________________________________________________\n",
      "Layer (type)                 Output Shape              Param #   \n",
      "=================================================================\n",
      "embedding_2 (Embedding)      (None, 93, 8)             40000     \n",
      "_________________________________________________________________\n",
      "spatial_dropout1d_4 (Spatial (None, 93, 8)             0         \n",
      "_________________________________________________________________\n",
      "lstm_4 (LSTM)                (None, 93, 100)           43600     \n",
      "_________________________________________________________________\n",
      "spatial_dropout1d_5 (Spatial (None, 93, 100)           0         \n",
      "_________________________________________________________________\n",
      "lstm_5 (LSTM)                (None, 100)               80400     \n",
      "_________________________________________________________________\n",
      "dense_2 (Dense)              (None, 1)                 101       \n",
      "=================================================================\n",
      "Total params: 164,101\n",
      "Trainable params: 164,101\n",
      "Non-trainable params: 0\n",
      "_________________________________________________________________\n",
      "None\n"
     ]
    }
   ],
   "source": [
    "# LSTM model2\n",
    "model = Sequential()\n",
    "# embedding layer in which words are encoded as real-valued vectors and where similarity between words is translated to closeness in vector space\n",
    "model.add(Embedding(max_nb_words, embedding_dim, input_length=X.shape[1]))\n",
    "# whole feature map may be dropped out, prevents co-adaptation of feature & its neighbors\n",
    "model.add(SpatialDropout1D(0.4))\n",
    "# LSTM layer with 10 memory units\n",
    "model.add(LSTM(100, dropout=0.4, recurrent_dropout=0.4, return_sequences=True))\n",
    "# added dropout\n",
    "model.add(SpatialDropout1D(0.4))\n",
    "model.add(LSTM(100, dropout=0.4, recurrent_dropout=0.4))\n",
    "model.add(Dense(1, activation='sigmoid'))\n",
    "model.compile(loss='binary_crossentropy', optimizer='adam', metrics=['accuracy'])\n",
    "print(model.summary())"
   ]
  },
  {
   "cell_type": "code",
   "execution_count": 42,
   "metadata": {},
   "outputs": [
    {
     "name": "stdout",
     "output_type": "stream",
     "text": [
      "Train on 41476 samples, validate on 4609 samples\n",
      "Epoch 1/10\n",
      "41476/41476 [==============================] - 221s 5ms/sample - loss: 0.6031 - accuracy: 0.6477 - val_loss: 0.4966 - val_accuracy: 0.7355\n",
      "Epoch 2/10\n",
      "41476/41476 [==============================] - 218s 5ms/sample - loss: 0.5177 - accuracy: 0.7272 - val_loss: 0.4720 - val_accuracy: 0.7494\n",
      "Epoch 3/10\n",
      "41476/41476 [==============================] - 207s 5ms/sample - loss: 0.4844 - accuracy: 0.7474 - val_loss: 0.4692 - val_accuracy: 0.7481\n",
      "Epoch 4/10\n",
      "41476/41476 [==============================] - 162s 4ms/sample - loss: 0.4758 - accuracy: 0.7530 - val_loss: 0.4660 - val_accuracy: 0.7522\n",
      "Epoch 5/10\n",
      "41476/41476 [==============================] - 162s 4ms/sample - loss: 0.4632 - accuracy: 0.7589 - val_loss: 0.4759 - val_accuracy: 0.7579\n",
      "Epoch 6/10\n",
      "41476/41476 [==============================] - 159s 4ms/sample - loss: 0.4580 - accuracy: 0.7639 - val_loss: 0.4656 - val_accuracy: 0.7568\n",
      "Epoch 7/10\n",
      "41476/41476 [==============================] - 159s 4ms/sample - loss: 0.4528 - accuracy: 0.7697 - val_loss: 0.4616 - val_accuracy: 0.7589\n",
      "Epoch 8/10\n",
      "41476/41476 [==============================] - 171s 4ms/sample - loss: 0.4492 - accuracy: 0.7687 - val_loss: 0.4608 - val_accuracy: 0.7568\n",
      "Epoch 9/10\n",
      "41476/41476 [==============================] - 169s 4ms/sample - loss: 0.4457 - accuracy: 0.7729 - val_loss: 0.4566 - val_accuracy: 0.7576\n",
      "Epoch 10/10\n",
      "41476/41476 [==============================] - 166s 4ms/sample - loss: 0.4425 - accuracy: 0.7737 - val_loss: 0.4605 - val_accuracy: 0.7605\n"
     ]
    }
   ],
   "source": [
    "# fit LSTM model2\n",
    "history = model.fit(X_train, y_train, batch_size=64, epochs=10, verbose=1, validation_data=(X_test, y_test),\n",
    "                   callbacks=[EarlyStopping(monitor='val_loss', patience=3, min_delta=0.0001)])"
   ]
  },
  {
   "cell_type": "code",
   "execution_count": 43,
   "metadata": {},
   "outputs": [
    {
     "name": "stdout",
     "output_type": "stream",
     "text": [
      "4609/4609 [==============================] - 8s 2ms/sample - loss: 0.4605 - accuracy: 0.7605\n",
      "Accuracy:  76.04686617851257\n"
     ]
    }
   ],
   "source": [
    "y_pred = model.predict(X_test)\n",
    "acc = model.evaluate(X_test, y_test)\n",
    "print('Accuracy: ', (acc[1] * 100))"
   ]
  },
  {
   "cell_type": "code",
   "execution_count": 64,
   "metadata": {},
   "outputs": [
    {
     "data": {
      "image/png": "[encoded data removed]",
      "text/plain": [
       "<Figure size 720x504 with 2 Axes>"
      ]
     },
     "metadata": {},
     "output_type": "display_data"
    }
   ],
   "source": [
    "# convert predicted values from probabilities to labels\n",
    "y_pred_labels = (y_pred > 0.5).astype(np.int)\n",
    "\n",
    "cm = confusion_matrix(y_test, y_pred_labels)\n",
    "# flip confusion matrix, so that confusion matrix is properly ordered\n",
    "cm_flip = np.flip(cm, 0)\n",
    "cm_flip = np.flip(cm_flip, 1)\n",
    "df_cm = pd.DataFrame(cm_flip, index=('oily', 'dry'), columns=('oily', 'dry'))\n",
    "\n",
    "fig, ax = plt.subplots(figsize=(10,7))\n",
    "sns.set(font_scale=1.4)\n",
    "sns.heatmap(df_cm, annot=True, fmt='g')\n",
    "\n",
    "ax.set_xlabel('Predicted')\n",
    "ax.set_ylabel('Actual')\n",
    "ax.set_title('Confusion Matrix')\n",
    "\n",
    "plt.tight_layout()\n",
    "# plt.savefig('imgs/Model14_cm.png')"
   ]
  },
  {
   "cell_type": "code",
   "execution_count": 65,
   "metadata": {},
   "outputs": [
    {
     "data": {
      "image/png": "[encoded data removed]",
      "text/plain": [
       "<Figure size 720x504 with 1 Axes>"
      ]
     },
     "metadata": {},
     "output_type": "display_data"
    }
   ],
   "source": [
    "fig, ax = plt.subplots(figsize=(10,7))\n",
    "plt.title('Model Loss')\n",
    "plt.plot(history.history['loss'], label='train')\n",
    "plt.plot(history.history['val_loss'], label='test')\n",
    "plt.legend()\n",
    "\n",
    "plt.tight_layout()\n",
    "# plt.savefig('imgs/Model14_Loss.png')"
   ]
  },
  {
   "cell_type": "code",
   "execution_count": 66,
   "metadata": {},
   "outputs": [
    {
     "data": {
      "image/png": "[encoded data removed]",
      "text/plain": [
       "<Figure size 720x504 with 1 Axes>"
      ]
     },
     "metadata": {},
     "output_type": "display_data"
    }
   ],
   "source": [
    "fig, ax = plt.subplots(figsize=(10,7))\n",
    "plt.title('Model Accuracy')\n",
    "plt.plot(history.history['accuracy'], label='train')\n",
    "plt.plot(history.history['val_accuracy'], label='test')\n",
    "plt.legend()\n",
    "\n",
    "plt.tight_layout()\n",
    "# plt.savefig('imgs/Model14_Acc.png')"
   ]
  },
  {
   "cell_type": "code",
   "execution_count": 67,
   "metadata": {},
   "outputs": [],
   "source": [
    "# save model to file\n",
    "# model.save('models/model14.h5')"
   ]
  },
  {
   "cell_type": "code",
   "execution_count": 47,
   "metadata": {},
   "outputs": [],
   "source": [
    "# model4 = load_model('models/model4.h5')\n",
    "# model4.summary()"
   ]
  },
  {
   "cell_type": "markdown",
   "metadata": {},
   "source": [
    "## LSTM model 3"
   ]
  },
  {
   "cell_type": "code",
   "execution_count": 68,
   "metadata": {},
   "outputs": [
    {
     "name": "stdout",
     "output_type": "stream",
     "text": [
      "Found 20167 unique tokens\n"
     ]
    }
   ],
   "source": [
    "# max number of most frequent words\n",
    "max_nb_words = 20000\n",
    "# max_nb_words = 5000\n",
    "\n",
    "# max number of tokens\n",
    "max_seq_length = max_tokens\n",
    "embedding_dim = 25\n",
    "\n",
    "tokenizer = Tokenizer(num_words=max_nb_words, filters='!\"#$%&()*+,-./:;<=>?@[\\]^_`{|}~', lower=True)\n",
    "tokenizer.fit_on_texts(model_df2['review_text'].values)\n",
    "word_index = tokenizer.word_index\n",
    "print('Found {} unique tokens'.format(len(word_index)))"
   ]
  },
  {
   "cell_type": "code",
   "execution_count": 69,
   "metadata": {},
   "outputs": [
    {
     "name": "stdout",
     "output_type": "stream",
     "text": [
      "Shape of data tensor:  (46085, 93)\n"
     ]
    }
   ],
   "source": [
    "X = tokenizer.texts_to_sequences(model_df2['review_text'].values)\n",
    "# pad sequences vectorizes and creates a uniform length of sentences\n",
    "X = pad_sequences(X, maxlen=max_seq_length)\n",
    "print('Shape of data tensor: ', X.shape)"
   ]
  },
  {
   "cell_type": "code",
   "execution_count": 70,
   "metadata": {},
   "outputs": [
    {
     "name": "stdout",
     "output_type": "stream",
     "text": [
      "Shape of label tensor:  (46085,)\n"
     ]
    }
   ],
   "source": [
    "y = model_df2['skin_type'].values\n",
    "print('Shape of label tensor: ', y.shape)"
   ]
  },
  {
   "cell_type": "code",
   "execution_count": 71,
   "metadata": {},
   "outputs": [],
   "source": [
    "# split data into training and testing set to create holdout test set and balanced training data\n",
    "X_train, X_test, y_train, y_test = train_test_split(X, y, test_size=0.10, random_state=42)"
   ]
  },
  {
   "cell_type": "code",
   "execution_count": 75,
   "metadata": {},
   "outputs": [
    {
     "name": "stdout",
     "output_type": "stream",
     "text": [
      "Model: \"sequential_6\"\n",
      "_________________________________________________________________\n",
      "Layer (type)                 Output Shape              Param #   \n",
      "=================================================================\n",
      "embedding_5 (Embedding)      (None, 93, 25)            500000    \n",
      "_________________________________________________________________\n",
      "spatial_dropout1d_9 (Spatial (None, 93, 25)            0         \n",
      "_________________________________________________________________\n",
      "lstm_11 (LSTM)               (None, 93, 100)           50400     \n",
      "_________________________________________________________________\n",
      "lstm_12 (LSTM)               (None, 100)               80400     \n",
      "_________________________________________________________________\n",
      "dense_5 (Dense)              (None, 1)                 101       \n",
      "=================================================================\n",
      "Total params: 630,901\n",
      "Trainable params: 630,901\n",
      "Non-trainable params: 0\n",
      "_________________________________________________________________\n",
      "None\n"
     ]
    }
   ],
   "source": [
    "# LSTM model3\n",
    "model = Sequential()\n",
    "# embedding layer in which words are encoded as real-valued vectors and where similarity between words is translated to closeness in vector space\n",
    "model.add(Embedding(max_nb_words, embedding_dim, input_length=X.shape[1]))\n",
    "# whole feature map may be dropped out, prevents co-adaptation of feature & its neighbors\n",
    "model.add(SpatialDropout1D(0.2))\n",
    "# LSTM layer with 100 memory units\n",
    "model.add(LSTM(100, dropout=0.2, recurrent_dropout=0.2, return_sequences=True))\n",
    "model.add(LSTM(100, dropout=0.2, recurrent_dropout=0.2))\n",
    "model.add(Dense(1, activation='sigmoid'))\n",
    "model.compile(loss='binary_crossentropy', optimizer='adam', metrics=['accuracy'])\n",
    "print(model.summary())"
   ]
  },
  {
   "cell_type": "code",
   "execution_count": 76,
   "metadata": {},
   "outputs": [
    {
     "name": "stdout",
     "output_type": "stream",
     "text": [
      "Train on 41476 samples, validate on 4609 samples\n",
      "Epoch 1/10\n",
      "41476/41476 [==============================] - 244s 6ms/sample - loss: 0.5296 - accuracy: 0.7091 - val_loss: 0.4719 - val_accuracy: 0.7470\n",
      "Epoch 2/10\n",
      "41476/41476 [==============================] - 195s 5ms/sample - loss: 0.4579 - accuracy: 0.7654 - val_loss: 0.4582 - val_accuracy: 0.7540\n",
      "Epoch 3/10\n",
      "41476/41476 [==============================] - 186s 4ms/sample - loss: 0.4305 - accuracy: 0.7869 - val_loss: 0.4639 - val_accuracy: 0.7466\n",
      "Epoch 4/10\n",
      "41476/41476 [==============================] - 186s 4ms/sample - loss: 0.4073 - accuracy: 0.7996 - val_loss: 0.4739 - val_accuracy: 0.7537\n",
      "Epoch 5/10\n",
      "41476/41476 [==============================] - 183s 4ms/sample - loss: 0.3855 - accuracy: 0.8116 - val_loss: 0.4885 - val_accuracy: 0.7416\n"
     ]
    }
   ],
   "source": [
    "# fit LSTM model2\n",
    "history = model.fit(X_train, y_train, batch_size=64, epochs=10, verbose=1, validation_data=(X_test, y_test),\n",
    "                   callbacks=[EarlyStopping(monitor='val_loss', patience=3, min_delta=0.0001)])"
   ]
  },
  {
   "cell_type": "code",
   "execution_count": 77,
   "metadata": {},
   "outputs": [
    {
     "name": "stdout",
     "output_type": "stream",
     "text": [
      "4609/4609 [==============================] - 9s 2ms/sample - loss: 0.4885 - accuracy: 0.7416\n",
      "Accuracy:  74.1592526435852\n"
     ]
    }
   ],
   "source": [
    "y_pred = model.predict(X_test)\n",
    "acc = model.evaluate(X_test, y_test)\n",
    "print('Accuracy: ', (acc[1] * 100))"
   ]
  },
  {
   "cell_type": "code",
   "execution_count": 78,
   "metadata": {},
   "outputs": [
    {
     "data": {
      "image/png": "[encoded data removed]",
      "text/plain": [
       "<Figure size 720x504 with 2 Axes>"
      ]
     },
     "metadata": {},
     "output_type": "display_data"
    }
   ],
   "source": [
    "# convert predicted values from probabilities to labels\n",
    "y_pred_labels = (y_pred > 0.5).astype(np.int)\n",
    "\n",
    "cm = confusion_matrix(y_test, y_pred_labels)\n",
    "# flip confusion matrix, so that confusion matrix is properly ordered\n",
    "cm_flip = np.flip(cm, 0)\n",
    "cm_flip = np.flip(cm_flip, 1)\n",
    "df_cm = pd.DataFrame(cm_flip, index=('oily', 'dry'), columns=('oily', 'dry'))\n",
    "\n",
    "fig, ax = plt.subplots(figsize=(10,7))\n",
    "sns.set(font_scale=1.4)\n",
    "sns.heatmap(df_cm, annot=True, fmt='g')\n",
    "\n",
    "ax.set_xlabel('Predicted')\n",
    "ax.set_ylabel('Actual')\n",
    "ax.set_title('Confusion Matrix')\n",
    "\n",
    "plt.tight_layout()\n",
    "# plt.savefig('imgs/Model14_cm.png')"
   ]
  },
  {
   "cell_type": "code",
   "execution_count": 79,
   "metadata": {},
   "outputs": [
    {
     "data": {
      "image/png": "[encoded data removed]",
      "text/plain": [
       "<Figure size 720x504 with 1 Axes>"
      ]
     },
     "metadata": {},
     "output_type": "display_data"
    }
   ],
   "source": [
    "fig, ax = plt.subplots(figsize=(10,7))\n",
    "plt.title('Model Loss')\n",
    "plt.plot(history.history['loss'], label='train')\n",
    "plt.plot(history.history['val_loss'], label='test')\n",
    "plt.legend()\n",
    "\n",
    "plt.tight_layout()\n",
    "# plt.savefig('imgs/Model14_Loss.png')"
   ]
  },
  {
   "cell_type": "code",
   "execution_count": null,
   "metadata": {},
   "outputs": [],
   "source": []
  },
  {
   "cell_type": "code",
   "execution_count": null,
   "metadata": {},
   "outputs": [],
   "source": []
  },
  {
   "cell_type": "code",
   "execution_count": null,
   "metadata": {},
   "outputs": [],
   "source": []
  },
  {
   "cell_type": "code",
   "execution_count": null,
   "metadata": {},
   "outputs": [],
   "source": []
  },
  {
   "cell_type": "code",
   "execution_count": null,
   "metadata": {},
   "outputs": [],
   "source": []
  },
  {
   "cell_type": "markdown",
   "metadata": {},
   "source": [
    "## LSTM Model with Undersampling for all 4 Classes"
   ]
  },
  {
   "cell_type": "code",
   "execution_count": 88,
   "metadata": {},
   "outputs": [
    {
     "name": "stdout",
     "output_type": "stream",
     "text": [
      "Found 33091 unique tokens\n"
     ]
    }
   ],
   "source": [
    "# max number of most frequent words\n",
    "max_nb_words = 20000\n",
    "# max number of words in each review, longest review is 481 sentences\n",
    "max_seq_length = 481\n",
    "embedding_dim = 100\n",
    "\n",
    "tokenizer = Tokenizer(num_words=max_nb_words, filters='!\"#$%&()*+,-./:;<=>?@[\\]^_`{|}~', lower=True)\n",
    "tokenizer.fit_on_texts(model_df['review_text'].values)\n",
    "word_index = tokenizer.word_index\n",
    "print('Found {} unique tokens'.format(len(word_index)))"
   ]
  },
  {
   "cell_type": "code",
   "execution_count": 89,
   "metadata": {},
   "outputs": [
    {
     "name": "stdout",
     "output_type": "stream",
     "text": [
      "Shape of data tensor:  (134442, 481)\n"
     ]
    }
   ],
   "source": [
    "X = tokenizer.texts_to_sequences(model_df['review_text'].values)\n",
    "# pad sequences vectorizes and creates a uniform length of sentences\n",
    "X = pad_sequences(X, maxlen=max_seq_length)\n",
    "print('Shape of data tensor: ', X.shape)"
   ]
  },
  {
   "cell_type": "code",
   "execution_count": 98,
   "metadata": {},
   "outputs": [
    {
     "data": {
      "text/plain": [
       "33091"
      ]
     },
     "execution_count": 98,
     "metadata": {},
     "output_type": "execute_result"
    }
   ],
   "source": [
    "# create bag of words list to use for columns in dataframe\n",
    "bow = list(word_index.keys())\n",
    "bow_481 = list(word_index.keys())[:481]\n",
    "len(bow)"
   ]
  },
  {
   "cell_type": "code",
   "execution_count": 99,
   "metadata": {},
   "outputs": [
    {
     "name": "stdout",
     "output_type": "stream",
     "text": [
      "Shape of label tensor:  (134442, 4)\n"
     ]
    }
   ],
   "source": [
    "y = pd.get_dummies(model_df['skin_type']).values\n",
    "print('Shape of label tensor: ', y.shape)"
   ]
  },
  {
   "cell_type": "code",
   "execution_count": 100,
   "metadata": {},
   "outputs": [],
   "source": [
    "# split data into training and testing set to create holdout test set and balanced training data\n",
    "X_train1, X_test1, y_train1, y_test1 = train_test_split(X, y, test_size=0.25, random_state=42)"
   ]
  },
  {
   "cell_type": "code",
   "execution_count": 101,
   "metadata": {},
   "outputs": [
    {
     "name": "stdout",
     "output_type": "stream",
     "text": [
      "Combination:  (53128, 481)\n",
      "Oily:  (15783, 481)\n",
      "Dry:  (13165, 481)\n",
      "Normal:  (18755, 481)\n"
     ]
    }
   ],
   "source": [
    "print('Combination: ', X_train1[y_train1[:, 0] == 1].shape)\n",
    "print('Oily: ', X_train1[y_train1[:, 1] == 1].shape)\n",
    "print('Dry: ', X_train1[y_train1[:, 2] == 1].shape)\n",
    "print('Normal: ', X_train1[y_train1[:, 3] == 1].shape)"
   ]
  },
  {
   "cell_type": "code",
   "execution_count": 102,
   "metadata": {},
   "outputs": [
    {
     "data": {
      "text/plain": [
       "(100831, 481)"
      ]
     },
     "execution_count": 102,
     "metadata": {},
     "output_type": "execute_result"
    }
   ],
   "source": [
    "X_train1.shape"
   ]
  },
  {
   "cell_type": "code",
   "execution_count": 103,
   "metadata": {},
   "outputs": [
    {
     "data": {
      "text/plain": [
       "(100831, 4)"
      ]
     },
     "execution_count": 103,
     "metadata": {},
     "output_type": "execute_result"
    }
   ],
   "source": [
    "y_train1.shape"
   ]
  },
  {
   "cell_type": "code",
   "execution_count": 104,
   "metadata": {},
   "outputs": [],
   "source": [
    "# column_names = ['word ' + str(num) for num in range(1, 482)]"
   ]
  },
  {
   "cell_type": "code",
   "execution_count": 105,
   "metadata": {},
   "outputs": [],
   "source": [
    "# df_train1 = pd.DataFrame(X_train1, columns=column_names)\n",
    "# df_train2 = pd.DataFrame(y_train1, columns=['Combination', 'Oily', 'Dry', 'Normal'])\n",
    "# df_train_final = pd.concat([df_train1, df_train2], axis=1)\n",
    "# df_train_final.head()"
   ]
  },
  {
   "cell_type": "code",
   "execution_count": 106,
   "metadata": {},
   "outputs": [
    {
     "data": {
      "text/html": [
       "<div>\n",
       "<style scoped>\n",
       "    .dataframe tbody tr th:only-of-type {\n",
       "        vertical-align: middle;\n",
       "    }\n",
       "\n",
       "    .dataframe tbody tr th {\n",
       "        vertical-align: top;\n",
       "    }\n",
       "\n",
       "    .dataframe thead th {\n",
       "        text-align: right;\n",
       "    }\n",
       "</style>\n",
       "<table border=\"1\" class=\"dataframe\">\n",
       "  <thead>\n",
       "    <tr style=\"text-align: right;\">\n",
       "      <th></th>\n",
       "      <th>foundation</th>\n",
       "      <th>skin</th>\n",
       "      <th>coverage</th>\n",
       "      <th>like</th>\n",
       "      <th>love</th>\n",
       "      <th>product</th>\n",
       "      <th>it</th>\n",
       "      <th>day</th>\n",
       "      <th>oily</th>\n",
       "      <th>face</th>\n",
       "      <th>...</th>\n",
       "      <th>difficult</th>\n",
       "      <th>due</th>\n",
       "      <th>scent</th>\n",
       "      <th>seem</th>\n",
       "      <th>own</th>\n",
       "      <th>says</th>\n",
       "      <th>Combination</th>\n",
       "      <th>Oily</th>\n",
       "      <th>Dry</th>\n",
       "      <th>Normal</th>\n",
       "    </tr>\n",
       "  </thead>\n",
       "  <tbody>\n",
       "    <tr>\n",
       "      <th>0</th>\n",
       "      <td>0</td>\n",
       "      <td>0</td>\n",
       "      <td>0</td>\n",
       "      <td>0</td>\n",
       "      <td>0</td>\n",
       "      <td>0</td>\n",
       "      <td>0</td>\n",
       "      <td>0</td>\n",
       "      <td>0</td>\n",
       "      <td>0</td>\n",
       "      <td>...</td>\n",
       "      <td>7</td>\n",
       "      <td>258</td>\n",
       "      <td>394</td>\n",
       "      <td>7</td>\n",
       "      <td>36</td>\n",
       "      <td>12887</td>\n",
       "      <td>0</td>\n",
       "      <td>0</td>\n",
       "      <td>1</td>\n",
       "      <td>0</td>\n",
       "    </tr>\n",
       "    <tr>\n",
       "      <th>1</th>\n",
       "      <td>0</td>\n",
       "      <td>0</td>\n",
       "      <td>0</td>\n",
       "      <td>0</td>\n",
       "      <td>0</td>\n",
       "      <td>0</td>\n",
       "      <td>0</td>\n",
       "      <td>0</td>\n",
       "      <td>0</td>\n",
       "      <td>0</td>\n",
       "      <td>...</td>\n",
       "      <td>38</td>\n",
       "      <td>329</td>\n",
       "      <td>60</td>\n",
       "      <td>57</td>\n",
       "      <td>209</td>\n",
       "      <td>375</td>\n",
       "      <td>1</td>\n",
       "      <td>0</td>\n",
       "      <td>0</td>\n",
       "      <td>0</td>\n",
       "    </tr>\n",
       "    <tr>\n",
       "      <th>2</th>\n",
       "      <td>0</td>\n",
       "      <td>0</td>\n",
       "      <td>0</td>\n",
       "      <td>0</td>\n",
       "      <td>0</td>\n",
       "      <td>0</td>\n",
       "      <td>0</td>\n",
       "      <td>0</td>\n",
       "      <td>0</td>\n",
       "      <td>0</td>\n",
       "      <td>...</td>\n",
       "      <td>1279</td>\n",
       "      <td>225</td>\n",
       "      <td>58</td>\n",
       "      <td>5</td>\n",
       "      <td>5</td>\n",
       "      <td>5</td>\n",
       "      <td>1</td>\n",
       "      <td>0</td>\n",
       "      <td>0</td>\n",
       "      <td>0</td>\n",
       "    </tr>\n",
       "    <tr>\n",
       "      <th>3</th>\n",
       "      <td>0</td>\n",
       "      <td>0</td>\n",
       "      <td>0</td>\n",
       "      <td>0</td>\n",
       "      <td>0</td>\n",
       "      <td>0</td>\n",
       "      <td>0</td>\n",
       "      <td>0</td>\n",
       "      <td>0</td>\n",
       "      <td>0</td>\n",
       "      <td>...</td>\n",
       "      <td>0</td>\n",
       "      <td>28</td>\n",
       "      <td>5</td>\n",
       "      <td>34</td>\n",
       "      <td>156</td>\n",
       "      <td>13259</td>\n",
       "      <td>0</td>\n",
       "      <td>1</td>\n",
       "      <td>0</td>\n",
       "      <td>0</td>\n",
       "    </tr>\n",
       "    <tr>\n",
       "      <th>4</th>\n",
       "      <td>0</td>\n",
       "      <td>0</td>\n",
       "      <td>0</td>\n",
       "      <td>0</td>\n",
       "      <td>0</td>\n",
       "      <td>0</td>\n",
       "      <td>0</td>\n",
       "      <td>0</td>\n",
       "      <td>0</td>\n",
       "      <td>0</td>\n",
       "      <td>...</td>\n",
       "      <td>52</td>\n",
       "      <td>62</td>\n",
       "      <td>80</td>\n",
       "      <td>154</td>\n",
       "      <td>4314</td>\n",
       "      <td>209</td>\n",
       "      <td>1</td>\n",
       "      <td>0</td>\n",
       "      <td>0</td>\n",
       "      <td>0</td>\n",
       "    </tr>\n",
       "  </tbody>\n",
       "</table>\n",
       "<p>5 rows × 485 columns</p>\n",
       "</div>"
      ],
      "text/plain": [
       "   foundation  skin  coverage  like  love  product  it  day  oily  face  ...  \\\n",
       "0           0     0         0     0     0        0   0    0     0     0  ...   \n",
       "1           0     0         0     0     0        0   0    0     0     0  ...   \n",
       "2           0     0         0     0     0        0   0    0     0     0  ...   \n",
       "3           0     0         0     0     0        0   0    0     0     0  ...   \n",
       "4           0     0         0     0     0        0   0    0     0     0  ...   \n",
       "\n",
       "   difficult  due  scent  seem   own   says  Combination  Oily  Dry  Normal  \n",
       "0          7  258    394     7    36  12887            0     0    1       0  \n",
       "1         38  329     60    57   209    375            1     0    0       0  \n",
       "2       1279  225     58     5     5      5            1     0    0       0  \n",
       "3          0   28      5    34   156  13259            0     1    0       0  \n",
       "4         52   62     80   154  4314    209            1     0    0       0  \n",
       "\n",
       "[5 rows x 485 columns]"
      ]
     },
     "execution_count": 106,
     "metadata": {},
     "output_type": "execute_result"
    }
   ],
   "source": [
    "df_train1 = pd.DataFrame(X_train1, columns=bow_481)\n",
    "df_train2 = pd.DataFrame(y_train1, columns=['Combination', 'Oily', 'Dry', 'Normal'])\n",
    "df_train_final = pd.concat([df_train1, df_train2], axis=1)\n",
    "df_train_final.head()"
   ]
  },
  {
   "cell_type": "code",
   "execution_count": 107,
   "metadata": {},
   "outputs": [],
   "source": [
    "# separate majority and minority class\n",
    "majority_class = df_train_final[df_train_final['Combination'] == 1]\n",
    "minority_class = df_train_final[df_train_final['Normal'] == 1]"
   ]
  },
  {
   "cell_type": "code",
   "execution_count": 108,
   "metadata": {},
   "outputs": [
    {
     "data": {
      "text/plain": [
       "(18755, 485)"
      ]
     },
     "execution_count": 108,
     "metadata": {},
     "output_type": "execute_result"
    }
   ],
   "source": [
    "# downsample majority class\n",
    "majority_downsampled = resample(majority_class, \n",
    "                                replace=False,\n",
    "                               n_samples=18755,\n",
    "                               random_state=123)\n",
    "majority_downsampled.shape"
   ]
  },
  {
   "cell_type": "code",
   "execution_count": 109,
   "metadata": {},
   "outputs": [
    {
     "data": {
      "text/html": [
       "<div>\n",
       "<style scoped>\n",
       "    .dataframe tbody tr th:only-of-type {\n",
       "        vertical-align: middle;\n",
       "    }\n",
       "\n",
       "    .dataframe tbody tr th {\n",
       "        vertical-align: top;\n",
       "    }\n",
       "\n",
       "    .dataframe thead th {\n",
       "        text-align: right;\n",
       "    }\n",
       "</style>\n",
       "<table border=\"1\" class=\"dataframe\">\n",
       "  <thead>\n",
       "    <tr style=\"text-align: right;\">\n",
       "      <th></th>\n",
       "      <th>foundation</th>\n",
       "      <th>skin</th>\n",
       "      <th>coverage</th>\n",
       "      <th>like</th>\n",
       "      <th>love</th>\n",
       "      <th>product</th>\n",
       "      <th>it</th>\n",
       "      <th>day</th>\n",
       "      <th>oily</th>\n",
       "      <th>face</th>\n",
       "      <th>...</th>\n",
       "      <th>difficult</th>\n",
       "      <th>due</th>\n",
       "      <th>scent</th>\n",
       "      <th>seem</th>\n",
       "      <th>own</th>\n",
       "      <th>says</th>\n",
       "      <th>Combination</th>\n",
       "      <th>Oily</th>\n",
       "      <th>Dry</th>\n",
       "      <th>Normal</th>\n",
       "    </tr>\n",
       "  </thead>\n",
       "  <tbody>\n",
       "    <tr>\n",
       "      <th>25069</th>\n",
       "      <td>0</td>\n",
       "      <td>0</td>\n",
       "      <td>0</td>\n",
       "      <td>0</td>\n",
       "      <td>0</td>\n",
       "      <td>0</td>\n",
       "      <td>0</td>\n",
       "      <td>0</td>\n",
       "      <td>0</td>\n",
       "      <td>0</td>\n",
       "      <td>...</td>\n",
       "      <td>6</td>\n",
       "      <td>135</td>\n",
       "      <td>222</td>\n",
       "      <td>1061</td>\n",
       "      <td>714</td>\n",
       "      <td>250</td>\n",
       "      <td>1</td>\n",
       "      <td>0</td>\n",
       "      <td>0</td>\n",
       "      <td>0</td>\n",
       "    </tr>\n",
       "    <tr>\n",
       "      <th>78446</th>\n",
       "      <td>0</td>\n",
       "      <td>0</td>\n",
       "      <td>0</td>\n",
       "      <td>0</td>\n",
       "      <td>0</td>\n",
       "      <td>0</td>\n",
       "      <td>0</td>\n",
       "      <td>0</td>\n",
       "      <td>0</td>\n",
       "      <td>0</td>\n",
       "      <td>...</td>\n",
       "      <td>33</td>\n",
       "      <td>62</td>\n",
       "      <td>54</td>\n",
       "      <td>150</td>\n",
       "      <td>38</td>\n",
       "      <td>64</td>\n",
       "      <td>1</td>\n",
       "      <td>0</td>\n",
       "      <td>0</td>\n",
       "      <td>0</td>\n",
       "    </tr>\n",
       "    <tr>\n",
       "      <th>68796</th>\n",
       "      <td>0</td>\n",
       "      <td>0</td>\n",
       "      <td>0</td>\n",
       "      <td>0</td>\n",
       "      <td>0</td>\n",
       "      <td>0</td>\n",
       "      <td>0</td>\n",
       "      <td>0</td>\n",
       "      <td>0</td>\n",
       "      <td>0</td>\n",
       "      <td>...</td>\n",
       "      <td>532</td>\n",
       "      <td>277</td>\n",
       "      <td>131</td>\n",
       "      <td>133</td>\n",
       "      <td>21</td>\n",
       "      <td>9</td>\n",
       "      <td>1</td>\n",
       "      <td>0</td>\n",
       "      <td>0</td>\n",
       "      <td>0</td>\n",
       "    </tr>\n",
       "    <tr>\n",
       "      <th>35690</th>\n",
       "      <td>0</td>\n",
       "      <td>0</td>\n",
       "      <td>0</td>\n",
       "      <td>0</td>\n",
       "      <td>0</td>\n",
       "      <td>0</td>\n",
       "      <td>0</td>\n",
       "      <td>0</td>\n",
       "      <td>0</td>\n",
       "      <td>0</td>\n",
       "      <td>...</td>\n",
       "      <td>511</td>\n",
       "      <td>176</td>\n",
       "      <td>484</td>\n",
       "      <td>950</td>\n",
       "      <td>630</td>\n",
       "      <td>160</td>\n",
       "      <td>1</td>\n",
       "      <td>0</td>\n",
       "      <td>0</td>\n",
       "      <td>0</td>\n",
       "    </tr>\n",
       "    <tr>\n",
       "      <th>51975</th>\n",
       "      <td>0</td>\n",
       "      <td>0</td>\n",
       "      <td>0</td>\n",
       "      <td>0</td>\n",
       "      <td>0</td>\n",
       "      <td>0</td>\n",
       "      <td>0</td>\n",
       "      <td>0</td>\n",
       "      <td>0</td>\n",
       "      <td>0</td>\n",
       "      <td>...</td>\n",
       "      <td>27</td>\n",
       "      <td>6854</td>\n",
       "      <td>2998</td>\n",
       "      <td>2028</td>\n",
       "      <td>468</td>\n",
       "      <td>25</td>\n",
       "      <td>1</td>\n",
       "      <td>0</td>\n",
       "      <td>0</td>\n",
       "      <td>0</td>\n",
       "    </tr>\n",
       "  </tbody>\n",
       "</table>\n",
       "<p>5 rows × 485 columns</p>\n",
       "</div>"
      ],
      "text/plain": [
       "       foundation  skin  coverage  like  love  product  it  day  oily  face  \\\n",
       "25069           0     0         0     0     0        0   0    0     0     0   \n",
       "78446           0     0         0     0     0        0   0    0     0     0   \n",
       "68796           0     0         0     0     0        0   0    0     0     0   \n",
       "35690           0     0         0     0     0        0   0    0     0     0   \n",
       "51975           0     0         0     0     0        0   0    0     0     0   \n",
       "\n",
       "       ...  difficult   due  scent  seem  own  says  Combination  Oily  Dry  \\\n",
       "25069  ...          6   135    222  1061  714   250            1     0    0   \n",
       "78446  ...         33    62     54   150   38    64            1     0    0   \n",
       "68796  ...        532   277    131   133   21     9            1     0    0   \n",
       "35690  ...        511   176    484   950  630   160            1     0    0   \n",
       "51975  ...         27  6854   2998  2028  468    25            1     0    0   \n",
       "\n",
       "       Normal  \n",
       "25069       0  \n",
       "78446       0  \n",
       "68796       0  \n",
       "35690       0  \n",
       "51975       0  \n",
       "\n",
       "[5 rows x 485 columns]"
      ]
     },
     "execution_count": 109,
     "metadata": {},
     "output_type": "execute_result"
    }
   ],
   "source": [
    "majority_downsampled.head()"
   ]
  },
  {
   "cell_type": "code",
   "execution_count": 110,
   "metadata": {},
   "outputs": [
    {
     "data": {
      "text/plain": [
       "(66458, 485)"
      ]
     },
     "execution_count": 110,
     "metadata": {},
     "output_type": "execute_result"
    }
   ],
   "source": [
    "# combine downsample majority class with remaining training set\n",
    "X_train_ds = pd.concat([majority_downsampled,\n",
    "                       df_train_final[df_train_final['Oily'] == 1]],\n",
    "                      axis=0)\n",
    "X_train_ds2 = pd.concat([X_train_ds,\n",
    "                       df_train_final[df_train_final['Dry'] == 1]],\n",
    "                      axis=0)\n",
    "X_train_ds_final = pd.concat([X_train_ds2,\n",
    "                       df_train_final[df_train_final['Normal'] == 1]],\n",
    "                      axis=0)\n",
    "X_train_ds_final.shape"
   ]
  },
  {
   "cell_type": "code",
   "execution_count": 111,
   "metadata": {},
   "outputs": [
    {
     "name": "stdout",
     "output_type": "stream",
     "text": [
      "(66458, 481)\n",
      "(66458, 4)\n"
     ]
    }
   ],
   "source": [
    "# redefine X and y for 2nd iteration of training and testing set split\n",
    "X = X_train_ds_final.iloc[:, :-4].values\n",
    "y = X_train_ds_final.iloc[:, -4:].values\n",
    "print(X.shape)\n",
    "print(y.shape)"
   ]
  },
  {
   "cell_type": "code",
   "execution_count": 112,
   "metadata": {},
   "outputs": [],
   "source": [
    "X_train2, X_test2, y_train2, y_test2 = train_test_split(X, y, test_size=0.25, random_state=42)"
   ]
  },
  {
   "cell_type": "code",
   "execution_count": 113,
   "metadata": {},
   "outputs": [
    {
     "name": "stdout",
     "output_type": "stream",
     "text": [
      "Model: \"sequential_1\"\n",
      "_________________________________________________________________\n",
      "Layer (type)                 Output Shape              Param #   \n",
      "=================================================================\n",
      "embedding_1 (Embedding)      (None, 481, 100)          2000000   \n",
      "_________________________________________________________________\n",
      "spatial_dropout1d_1 (Spatial (None, 481, 100)          0         \n",
      "_________________________________________________________________\n",
      "lstm_1 (LSTM)                (None, 100)               80400     \n",
      "_________________________________________________________________\n",
      "dense_1 (Dense)              (None, 4)                 404       \n",
      "=================================================================\n",
      "Total params: 2,080,804\n",
      "Trainable params: 2,080,804\n",
      "Non-trainable params: 0\n",
      "_________________________________________________________________\n",
      "None\n"
     ]
    }
   ],
   "source": [
    "# LSTM model\n",
    "model = Sequential()\n",
    "# embedding layer in which words are encoded as real-valued vectors and where similarity between words is translated to closeness in vector space\n",
    "model.add(Embedding(max_nb_words, embedding_dim, input_length=X.shape[1]))\n",
    "model.add(SpatialDropout1D(0.2))\n",
    "model.add(LSTM(100, dropout=0.2, recurrent_dropout=0.2))\n",
    "# add one more LSTM layer\n",
    "model.add(Dense(4, activation='softmax'))\n",
    "model.compile(loss='categorical_crossentropy', optimizer='adam', metrics=['accuracy'])\n",
    "print(model.summary())"
   ]
  },
  {
   "cell_type": "code",
   "execution_count": 114,
   "metadata": {},
   "outputs": [
    {
     "name": "stdout",
     "output_type": "stream",
     "text": [
      "Train on 49843 samples\n",
      "Epoch 1/5\n",
      "49843/49843 [==============================] - 1199s 24ms/sample - loss: 1.2638 - accuracy: 0.4013\n",
      "Epoch 2/5\n",
      "49843/49843 [==============================] - 4522s 91ms/sample - loss: 1.1979 - accuracy: 0.4503\n",
      "Epoch 3/5\n",
      "49843/49843 [==============================] - 1123s 23ms/sample - loss: 1.1419 - accuracy: 0.4854\n",
      "Epoch 4/5\n",
      "49843/49843 [==============================] - 1011s 20ms/sample - loss: 1.0839 - accuracy: 0.5234\n",
      "Epoch 5/5\n",
      "49843/49843 [==============================] - 1183s 24ms/sample - loss: 1.0339 - accuracy: 0.5514\n"
     ]
    },
    {
     "data": {
      "text/plain": [
       "<tensorflow.python.keras.callbacks.History at 0x7f74562ee590>"
      ]
     },
     "execution_count": 114,
     "metadata": {},
     "output_type": "execute_result"
    }
   ],
   "source": [
    "#fit model\n",
    "model.fit(X_train2, y_train2, batch_size=32, epochs=5)"
   ]
  },
  {
   "cell_type": "code",
   "execution_count": 115,
   "metadata": {},
   "outputs": [],
   "source": [
    "y_pred = model.predict(X_test2)"
   ]
  },
  {
   "cell_type": "code",
   "execution_count": 116,
   "metadata": {},
   "outputs": [
    {
     "name": "stdout",
     "output_type": "stream",
     "text": [
      "16615/16615 [==============================] - 66s 4ms/sample - loss: 1.2107 - accuracy: 0.4462\n",
      "Accuracy:  44.61631178855896\n"
     ]
    }
   ],
   "source": [
    "acc = model.evaluate(X_test2, y_test2)\n",
    "print('Accuracy: ', (acc[1] * 100))"
   ]
  },
  {
   "cell_type": "markdown",
   "metadata": {},
   "source": [
    "**predicting on holdout test set**"
   ]
  },
  {
   "cell_type": "code",
   "execution_count": 205,
   "metadata": {},
   "outputs": [],
   "source": [
    "y_pred = model.predict(X_test1)"
   ]
  },
  {
   "cell_type": "code",
   "execution_count": 207,
   "metadata": {},
   "outputs": [
    {
     "name": "stdout",
     "output_type": "stream",
     "text": [
      "33611/33611 [==============================] - 66s 2ms/sample - loss: 1.2474 - accuracy: 0.4355\n"
     ]
    },
    {
     "data": {
      "text/plain": [
       "[1.247377719400625, 0.43554193]"
      ]
     },
     "execution_count": 207,
     "metadata": {},
     "output_type": "execute_result"
    }
   ],
   "source": [
    "acc = model.evaluate(X_test1, y_test1)\n",
    "print('Accuracy: ', (acc[1] * 100))"
   ]
  },
  {
   "cell_type": "markdown",
   "metadata": {},
   "source": [
    "### model tweaking"
   ]
  },
  {
   "cell_type": "code",
   "execution_count": null,
   "metadata": {},
   "outputs": [],
   "source": [
    "# LSTM model2, tweak hyperparameters\n",
    "embedding_dim = 32\n",
    "\n",
    "model = Sequential()\n",
    "# embedding layer in which words are encoded as real-valued vectors and where similarity between words is translated to closeness in vector space\n",
    "model.add(Embedding(max_nb_words, embedding_dim, input_length=X.shape[1]))\n",
    "# model.add(SpatialDropout1D(0.2))\n",
    "model.add(LSTM(100, dropout=0.2, recurrent_dropout=0.2))\n",
    "model.add(Dense(4, activation='softmax'))\n",
    "model.compile(loss='categorical_crossentropy', optimizer='adam', metrics=['accuracy'])\n",
    "print(model.summary())"
   ]
  },
  {
   "cell_type": "code",
   "execution_count": null,
   "metadata": {},
   "outputs": [],
   "source": [
    "#fit model2\n",
    "model.fit(X_train2, y_train2, batch_size=64, epochs=3)"
   ]
  },
  {
   "cell_type": "code",
   "execution_count": null,
   "metadata": {},
   "outputs": [],
   "source": [
    "# LSTM model3, tweak hyperparameters\n",
    "embedding_dim = 32\n",
    "\n",
    "model = Sequential()\n",
    "# embedding layer in which words are encoded as real-valued vectors and where similarity between words is translated to closeness in vector space\n",
    "model.add(Embedding(max_nb_words, embedding_dim, input_length=X.shape[1]))\n",
    "model.add(SpatialDropout1D(0.2))\n",
    "model.add(LSTM(100, dropout=0.2, recurrent_dropout=0.2))\n",
    "model.add(Dense(4, activation='softmax'))\n",
    "model.compile(loss='categorical_crossentropy', optimizer='adam', metrics=['accuracy'])\n",
    "print(model.summary())"
   ]
  },
  {
   "cell_type": "code",
   "execution_count": null,
   "metadata": {},
   "outputs": [],
   "source": [
    "#fit model3\n",
    "model.fit(X_train2, y_train2, batch_size=64, epochs=3)"
   ]
  },
  {
   "cell_type": "code",
   "execution_count": null,
   "metadata": {},
   "outputs": [],
   "source": []
  },
  {
   "cell_type": "code",
   "execution_count": null,
   "metadata": {},
   "outputs": [],
   "source": []
  },
  {
   "cell_type": "code",
   "execution_count": null,
   "metadata": {},
   "outputs": [],
   "source": []
  }
 ],
 "metadata": {
  "kernelspec": {
   "display_name": "Python 3",
   "language": "python",
   "name": "python3"
  },
  "language_info": {
   "codemirror_mode": {
    "name": "ipython",
    "version": 3
   },
   "file_extension": ".py",
   "mimetype": "text/x-python",
   "name": "python",
   "nbconvert_exporter": "python",
   "pygments_lexer": "ipython3",
   "version": "3.7.4"
  }
 },
 "nbformat": 4,
 "nbformat_minor": 4
}
